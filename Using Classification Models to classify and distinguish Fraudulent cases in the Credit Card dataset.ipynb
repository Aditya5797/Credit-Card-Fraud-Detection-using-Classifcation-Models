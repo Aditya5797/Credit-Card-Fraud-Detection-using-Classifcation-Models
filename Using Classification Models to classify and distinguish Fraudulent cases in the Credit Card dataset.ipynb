{
 "cells": [
  {
   "cell_type": "markdown",
   "id": "published-arthur",
   "metadata": {},
   "source": [
    "# Python Implementation"
   ]
  },
  {
   "cell_type": "markdown",
   "id": "ready-freeware",
   "metadata": {},
   "source": [
    "## Problem Statement\n",
    "\n",
    "To detect potential fraud cases so as to make sure that the customers who own the credit card don't have to pay for items they didn't purchase. The [Credit Card dataset](https://www.kaggle.com/mlg-ulb/creditcardfraud) contains all the transactions made by European Credit Card users over a period of time (September 2013). The goal here is to classify and distinguish fraudulent Credit Card Transactions by building Classification Models "
   ]
  },
  {
   "cell_type": "markdown",
   "id": "intensive-luther",
   "metadata": {},
   "source": [
    "## Importing the required packages\n"
   ]
  },
  {
   "cell_type": "code",
   "execution_count": 1,
   "id": "incomplete-march",
   "metadata": {},
   "outputs": [],
   "source": [
    "import pandas as pd\n",
    "import numpy as np"
   ]
  },
  {
   "cell_type": "code",
   "execution_count": 2,
   "id": "enhanced-tiffany",
   "metadata": {},
   "outputs": [],
   "source": [
    "## Importing data from the creditcard dataset\n",
    "\n",
    "ccdata = pd.read_csv(\"creditcard.csv\")"
   ]
  },
  {
   "cell_type": "code",
   "execution_count": 3,
   "id": "compatible-spectacular",
   "metadata": {},
   "outputs": [
    {
     "data": {
      "text/html": [
       "<div>\n",
       "<style scoped>\n",
       "    .dataframe tbody tr th:only-of-type {\n",
       "        vertical-align: middle;\n",
       "    }\n",
       "\n",
       "    .dataframe tbody tr th {\n",
       "        vertical-align: top;\n",
       "    }\n",
       "\n",
       "    .dataframe thead th {\n",
       "        text-align: right;\n",
       "    }\n",
       "</style>\n",
       "<table border=\"1\" class=\"dataframe\">\n",
       "  <thead>\n",
       "    <tr style=\"text-align: right;\">\n",
       "      <th></th>\n",
       "      <th>Time</th>\n",
       "      <th>V1</th>\n",
       "      <th>V2</th>\n",
       "      <th>V3</th>\n",
       "      <th>V4</th>\n",
       "      <th>V5</th>\n",
       "      <th>V6</th>\n",
       "      <th>V7</th>\n",
       "      <th>V8</th>\n",
       "      <th>V9</th>\n",
       "      <th>...</th>\n",
       "      <th>V21</th>\n",
       "      <th>V22</th>\n",
       "      <th>V23</th>\n",
       "      <th>V24</th>\n",
       "      <th>V25</th>\n",
       "      <th>V26</th>\n",
       "      <th>V27</th>\n",
       "      <th>V28</th>\n",
       "      <th>Amount</th>\n",
       "      <th>Class</th>\n",
       "    </tr>\n",
       "  </thead>\n",
       "  <tbody>\n",
       "    <tr>\n",
       "      <th>0</th>\n",
       "      <td>0.0</td>\n",
       "      <td>-1.359807</td>\n",
       "      <td>-0.072781</td>\n",
       "      <td>2.536347</td>\n",
       "      <td>1.378155</td>\n",
       "      <td>-0.338321</td>\n",
       "      <td>0.462388</td>\n",
       "      <td>0.239599</td>\n",
       "      <td>0.098698</td>\n",
       "      <td>0.363787</td>\n",
       "      <td>...</td>\n",
       "      <td>-0.018307</td>\n",
       "      <td>0.277838</td>\n",
       "      <td>-0.110474</td>\n",
       "      <td>0.066928</td>\n",
       "      <td>0.128539</td>\n",
       "      <td>-0.189115</td>\n",
       "      <td>0.133558</td>\n",
       "      <td>-0.021053</td>\n",
       "      <td>149.62</td>\n",
       "      <td>0</td>\n",
       "    </tr>\n",
       "    <tr>\n",
       "      <th>1</th>\n",
       "      <td>0.0</td>\n",
       "      <td>1.191857</td>\n",
       "      <td>0.266151</td>\n",
       "      <td>0.166480</td>\n",
       "      <td>0.448154</td>\n",
       "      <td>0.060018</td>\n",
       "      <td>-0.082361</td>\n",
       "      <td>-0.078803</td>\n",
       "      <td>0.085102</td>\n",
       "      <td>-0.255425</td>\n",
       "      <td>...</td>\n",
       "      <td>-0.225775</td>\n",
       "      <td>-0.638672</td>\n",
       "      <td>0.101288</td>\n",
       "      <td>-0.339846</td>\n",
       "      <td>0.167170</td>\n",
       "      <td>0.125895</td>\n",
       "      <td>-0.008983</td>\n",
       "      <td>0.014724</td>\n",
       "      <td>2.69</td>\n",
       "      <td>0</td>\n",
       "    </tr>\n",
       "    <tr>\n",
       "      <th>2</th>\n",
       "      <td>1.0</td>\n",
       "      <td>-1.358354</td>\n",
       "      <td>-1.340163</td>\n",
       "      <td>1.773209</td>\n",
       "      <td>0.379780</td>\n",
       "      <td>-0.503198</td>\n",
       "      <td>1.800499</td>\n",
       "      <td>0.791461</td>\n",
       "      <td>0.247676</td>\n",
       "      <td>-1.514654</td>\n",
       "      <td>...</td>\n",
       "      <td>0.247998</td>\n",
       "      <td>0.771679</td>\n",
       "      <td>0.909412</td>\n",
       "      <td>-0.689281</td>\n",
       "      <td>-0.327642</td>\n",
       "      <td>-0.139097</td>\n",
       "      <td>-0.055353</td>\n",
       "      <td>-0.059752</td>\n",
       "      <td>378.66</td>\n",
       "      <td>0</td>\n",
       "    </tr>\n",
       "    <tr>\n",
       "      <th>3</th>\n",
       "      <td>1.0</td>\n",
       "      <td>-0.966272</td>\n",
       "      <td>-0.185226</td>\n",
       "      <td>1.792993</td>\n",
       "      <td>-0.863291</td>\n",
       "      <td>-0.010309</td>\n",
       "      <td>1.247203</td>\n",
       "      <td>0.237609</td>\n",
       "      <td>0.377436</td>\n",
       "      <td>-1.387024</td>\n",
       "      <td>...</td>\n",
       "      <td>-0.108300</td>\n",
       "      <td>0.005274</td>\n",
       "      <td>-0.190321</td>\n",
       "      <td>-1.175575</td>\n",
       "      <td>0.647376</td>\n",
       "      <td>-0.221929</td>\n",
       "      <td>0.062723</td>\n",
       "      <td>0.061458</td>\n",
       "      <td>123.50</td>\n",
       "      <td>0</td>\n",
       "    </tr>\n",
       "    <tr>\n",
       "      <th>4</th>\n",
       "      <td>2.0</td>\n",
       "      <td>-1.158233</td>\n",
       "      <td>0.877737</td>\n",
       "      <td>1.548718</td>\n",
       "      <td>0.403034</td>\n",
       "      <td>-0.407193</td>\n",
       "      <td>0.095921</td>\n",
       "      <td>0.592941</td>\n",
       "      <td>-0.270533</td>\n",
       "      <td>0.817739</td>\n",
       "      <td>...</td>\n",
       "      <td>-0.009431</td>\n",
       "      <td>0.798278</td>\n",
       "      <td>-0.137458</td>\n",
       "      <td>0.141267</td>\n",
       "      <td>-0.206010</td>\n",
       "      <td>0.502292</td>\n",
       "      <td>0.219422</td>\n",
       "      <td>0.215153</td>\n",
       "      <td>69.99</td>\n",
       "      <td>0</td>\n",
       "    </tr>\n",
       "  </tbody>\n",
       "</table>\n",
       "<p>5 rows × 31 columns</p>\n",
       "</div>"
      ],
      "text/plain": [
       "   Time        V1        V2        V3        V4        V5        V6        V7  \\\n",
       "0   0.0 -1.359807 -0.072781  2.536347  1.378155 -0.338321  0.462388  0.239599   \n",
       "1   0.0  1.191857  0.266151  0.166480  0.448154  0.060018 -0.082361 -0.078803   \n",
       "2   1.0 -1.358354 -1.340163  1.773209  0.379780 -0.503198  1.800499  0.791461   \n",
       "3   1.0 -0.966272 -0.185226  1.792993 -0.863291 -0.010309  1.247203  0.237609   \n",
       "4   2.0 -1.158233  0.877737  1.548718  0.403034 -0.407193  0.095921  0.592941   \n",
       "\n",
       "         V8        V9  ...       V21       V22       V23       V24       V25  \\\n",
       "0  0.098698  0.363787  ... -0.018307  0.277838 -0.110474  0.066928  0.128539   \n",
       "1  0.085102 -0.255425  ... -0.225775 -0.638672  0.101288 -0.339846  0.167170   \n",
       "2  0.247676 -1.514654  ...  0.247998  0.771679  0.909412 -0.689281 -0.327642   \n",
       "3  0.377436 -1.387024  ... -0.108300  0.005274 -0.190321 -1.175575  0.647376   \n",
       "4 -0.270533  0.817739  ... -0.009431  0.798278 -0.137458  0.141267 -0.206010   \n",
       "\n",
       "        V26       V27       V28  Amount  Class  \n",
       "0 -0.189115  0.133558 -0.021053  149.62      0  \n",
       "1  0.125895 -0.008983  0.014724    2.69      0  \n",
       "2 -0.139097 -0.055353 -0.059752  378.66      0  \n",
       "3 -0.221929  0.062723  0.061458  123.50      0  \n",
       "4  0.502292  0.219422  0.215153   69.99      0  \n",
       "\n",
       "[5 rows x 31 columns]"
      ]
     },
     "execution_count": 3,
     "metadata": {},
     "output_type": "execute_result"
    }
   ],
   "source": [
    "ccdata.head()"
   ]
  },
  {
   "cell_type": "code",
   "execution_count": 4,
   "id": "conservative-layer",
   "metadata": {},
   "outputs": [
    {
     "data": {
      "text/html": [
       "<div>\n",
       "<style scoped>\n",
       "    .dataframe tbody tr th:only-of-type {\n",
       "        vertical-align: middle;\n",
       "    }\n",
       "\n",
       "    .dataframe tbody tr th {\n",
       "        vertical-align: top;\n",
       "    }\n",
       "\n",
       "    .dataframe thead th {\n",
       "        text-align: right;\n",
       "    }\n",
       "</style>\n",
       "<table border=\"1\" class=\"dataframe\">\n",
       "  <thead>\n",
       "    <tr style=\"text-align: right;\">\n",
       "      <th></th>\n",
       "      <th>Time</th>\n",
       "      <th>V1</th>\n",
       "      <th>V2</th>\n",
       "      <th>V3</th>\n",
       "      <th>V4</th>\n",
       "      <th>V5</th>\n",
       "      <th>V6</th>\n",
       "      <th>V7</th>\n",
       "      <th>V8</th>\n",
       "      <th>V9</th>\n",
       "      <th>...</th>\n",
       "      <th>V21</th>\n",
       "      <th>V22</th>\n",
       "      <th>V23</th>\n",
       "      <th>V24</th>\n",
       "      <th>V25</th>\n",
       "      <th>V26</th>\n",
       "      <th>V27</th>\n",
       "      <th>V28</th>\n",
       "      <th>Amount</th>\n",
       "      <th>Class</th>\n",
       "    </tr>\n",
       "  </thead>\n",
       "  <tbody>\n",
       "    <tr>\n",
       "      <th>count</th>\n",
       "      <td>284807.000000</td>\n",
       "      <td>2.848070e+05</td>\n",
       "      <td>2.848070e+05</td>\n",
       "      <td>2.848070e+05</td>\n",
       "      <td>2.848070e+05</td>\n",
       "      <td>2.848070e+05</td>\n",
       "      <td>2.848070e+05</td>\n",
       "      <td>2.848070e+05</td>\n",
       "      <td>2.848070e+05</td>\n",
       "      <td>2.848070e+05</td>\n",
       "      <td>...</td>\n",
       "      <td>2.848070e+05</td>\n",
       "      <td>2.848070e+05</td>\n",
       "      <td>2.848070e+05</td>\n",
       "      <td>2.848070e+05</td>\n",
       "      <td>2.848070e+05</td>\n",
       "      <td>2.848070e+05</td>\n",
       "      <td>2.848070e+05</td>\n",
       "      <td>2.848070e+05</td>\n",
       "      <td>284807.000000</td>\n",
       "      <td>284807.000000</td>\n",
       "    </tr>\n",
       "    <tr>\n",
       "      <th>mean</th>\n",
       "      <td>94813.859575</td>\n",
       "      <td>3.919560e-15</td>\n",
       "      <td>5.688174e-16</td>\n",
       "      <td>-8.769071e-15</td>\n",
       "      <td>2.782312e-15</td>\n",
       "      <td>-1.552563e-15</td>\n",
       "      <td>2.010663e-15</td>\n",
       "      <td>-1.694249e-15</td>\n",
       "      <td>-1.927028e-16</td>\n",
       "      <td>-3.137024e-15</td>\n",
       "      <td>...</td>\n",
       "      <td>1.537294e-16</td>\n",
       "      <td>7.959909e-16</td>\n",
       "      <td>5.367590e-16</td>\n",
       "      <td>4.458112e-15</td>\n",
       "      <td>1.453003e-15</td>\n",
       "      <td>1.699104e-15</td>\n",
       "      <td>-3.660161e-16</td>\n",
       "      <td>-1.206049e-16</td>\n",
       "      <td>88.349619</td>\n",
       "      <td>0.001727</td>\n",
       "    </tr>\n",
       "    <tr>\n",
       "      <th>std</th>\n",
       "      <td>47488.145955</td>\n",
       "      <td>1.958696e+00</td>\n",
       "      <td>1.651309e+00</td>\n",
       "      <td>1.516255e+00</td>\n",
       "      <td>1.415869e+00</td>\n",
       "      <td>1.380247e+00</td>\n",
       "      <td>1.332271e+00</td>\n",
       "      <td>1.237094e+00</td>\n",
       "      <td>1.194353e+00</td>\n",
       "      <td>1.098632e+00</td>\n",
       "      <td>...</td>\n",
       "      <td>7.345240e-01</td>\n",
       "      <td>7.257016e-01</td>\n",
       "      <td>6.244603e-01</td>\n",
       "      <td>6.056471e-01</td>\n",
       "      <td>5.212781e-01</td>\n",
       "      <td>4.822270e-01</td>\n",
       "      <td>4.036325e-01</td>\n",
       "      <td>3.300833e-01</td>\n",
       "      <td>250.120109</td>\n",
       "      <td>0.041527</td>\n",
       "    </tr>\n",
       "    <tr>\n",
       "      <th>min</th>\n",
       "      <td>0.000000</td>\n",
       "      <td>-5.640751e+01</td>\n",
       "      <td>-7.271573e+01</td>\n",
       "      <td>-4.832559e+01</td>\n",
       "      <td>-5.683171e+00</td>\n",
       "      <td>-1.137433e+02</td>\n",
       "      <td>-2.616051e+01</td>\n",
       "      <td>-4.355724e+01</td>\n",
       "      <td>-7.321672e+01</td>\n",
       "      <td>-1.343407e+01</td>\n",
       "      <td>...</td>\n",
       "      <td>-3.483038e+01</td>\n",
       "      <td>-1.093314e+01</td>\n",
       "      <td>-4.480774e+01</td>\n",
       "      <td>-2.836627e+00</td>\n",
       "      <td>-1.029540e+01</td>\n",
       "      <td>-2.604551e+00</td>\n",
       "      <td>-2.256568e+01</td>\n",
       "      <td>-1.543008e+01</td>\n",
       "      <td>0.000000</td>\n",
       "      <td>0.000000</td>\n",
       "    </tr>\n",
       "    <tr>\n",
       "      <th>25%</th>\n",
       "      <td>54201.500000</td>\n",
       "      <td>-9.203734e-01</td>\n",
       "      <td>-5.985499e-01</td>\n",
       "      <td>-8.903648e-01</td>\n",
       "      <td>-8.486401e-01</td>\n",
       "      <td>-6.915971e-01</td>\n",
       "      <td>-7.682956e-01</td>\n",
       "      <td>-5.540759e-01</td>\n",
       "      <td>-2.086297e-01</td>\n",
       "      <td>-6.430976e-01</td>\n",
       "      <td>...</td>\n",
       "      <td>-2.283949e-01</td>\n",
       "      <td>-5.423504e-01</td>\n",
       "      <td>-1.618463e-01</td>\n",
       "      <td>-3.545861e-01</td>\n",
       "      <td>-3.171451e-01</td>\n",
       "      <td>-3.269839e-01</td>\n",
       "      <td>-7.083953e-02</td>\n",
       "      <td>-5.295979e-02</td>\n",
       "      <td>5.600000</td>\n",
       "      <td>0.000000</td>\n",
       "    </tr>\n",
       "    <tr>\n",
       "      <th>50%</th>\n",
       "      <td>84692.000000</td>\n",
       "      <td>1.810880e-02</td>\n",
       "      <td>6.548556e-02</td>\n",
       "      <td>1.798463e-01</td>\n",
       "      <td>-1.984653e-02</td>\n",
       "      <td>-5.433583e-02</td>\n",
       "      <td>-2.741871e-01</td>\n",
       "      <td>4.010308e-02</td>\n",
       "      <td>2.235804e-02</td>\n",
       "      <td>-5.142873e-02</td>\n",
       "      <td>...</td>\n",
       "      <td>-2.945017e-02</td>\n",
       "      <td>6.781943e-03</td>\n",
       "      <td>-1.119293e-02</td>\n",
       "      <td>4.097606e-02</td>\n",
       "      <td>1.659350e-02</td>\n",
       "      <td>-5.213911e-02</td>\n",
       "      <td>1.342146e-03</td>\n",
       "      <td>1.124383e-02</td>\n",
       "      <td>22.000000</td>\n",
       "      <td>0.000000</td>\n",
       "    </tr>\n",
       "    <tr>\n",
       "      <th>75%</th>\n",
       "      <td>139320.500000</td>\n",
       "      <td>1.315642e+00</td>\n",
       "      <td>8.037239e-01</td>\n",
       "      <td>1.027196e+00</td>\n",
       "      <td>7.433413e-01</td>\n",
       "      <td>6.119264e-01</td>\n",
       "      <td>3.985649e-01</td>\n",
       "      <td>5.704361e-01</td>\n",
       "      <td>3.273459e-01</td>\n",
       "      <td>5.971390e-01</td>\n",
       "      <td>...</td>\n",
       "      <td>1.863772e-01</td>\n",
       "      <td>5.285536e-01</td>\n",
       "      <td>1.476421e-01</td>\n",
       "      <td>4.395266e-01</td>\n",
       "      <td>3.507156e-01</td>\n",
       "      <td>2.409522e-01</td>\n",
       "      <td>9.104512e-02</td>\n",
       "      <td>7.827995e-02</td>\n",
       "      <td>77.165000</td>\n",
       "      <td>0.000000</td>\n",
       "    </tr>\n",
       "    <tr>\n",
       "      <th>max</th>\n",
       "      <td>172792.000000</td>\n",
       "      <td>2.454930e+00</td>\n",
       "      <td>2.205773e+01</td>\n",
       "      <td>9.382558e+00</td>\n",
       "      <td>1.687534e+01</td>\n",
       "      <td>3.480167e+01</td>\n",
       "      <td>7.330163e+01</td>\n",
       "      <td>1.205895e+02</td>\n",
       "      <td>2.000721e+01</td>\n",
       "      <td>1.559499e+01</td>\n",
       "      <td>...</td>\n",
       "      <td>2.720284e+01</td>\n",
       "      <td>1.050309e+01</td>\n",
       "      <td>2.252841e+01</td>\n",
       "      <td>4.584549e+00</td>\n",
       "      <td>7.519589e+00</td>\n",
       "      <td>3.517346e+00</td>\n",
       "      <td>3.161220e+01</td>\n",
       "      <td>3.384781e+01</td>\n",
       "      <td>25691.160000</td>\n",
       "      <td>1.000000</td>\n",
       "    </tr>\n",
       "  </tbody>\n",
       "</table>\n",
       "<p>8 rows × 31 columns</p>\n",
       "</div>"
      ],
      "text/plain": [
       "                Time            V1            V2            V3            V4  \\\n",
       "count  284807.000000  2.848070e+05  2.848070e+05  2.848070e+05  2.848070e+05   \n",
       "mean    94813.859575  3.919560e-15  5.688174e-16 -8.769071e-15  2.782312e-15   \n",
       "std     47488.145955  1.958696e+00  1.651309e+00  1.516255e+00  1.415869e+00   \n",
       "min         0.000000 -5.640751e+01 -7.271573e+01 -4.832559e+01 -5.683171e+00   \n",
       "25%     54201.500000 -9.203734e-01 -5.985499e-01 -8.903648e-01 -8.486401e-01   \n",
       "50%     84692.000000  1.810880e-02  6.548556e-02  1.798463e-01 -1.984653e-02   \n",
       "75%    139320.500000  1.315642e+00  8.037239e-01  1.027196e+00  7.433413e-01   \n",
       "max    172792.000000  2.454930e+00  2.205773e+01  9.382558e+00  1.687534e+01   \n",
       "\n",
       "                 V5            V6            V7            V8            V9  \\\n",
       "count  2.848070e+05  2.848070e+05  2.848070e+05  2.848070e+05  2.848070e+05   \n",
       "mean  -1.552563e-15  2.010663e-15 -1.694249e-15 -1.927028e-16 -3.137024e-15   \n",
       "std    1.380247e+00  1.332271e+00  1.237094e+00  1.194353e+00  1.098632e+00   \n",
       "min   -1.137433e+02 -2.616051e+01 -4.355724e+01 -7.321672e+01 -1.343407e+01   \n",
       "25%   -6.915971e-01 -7.682956e-01 -5.540759e-01 -2.086297e-01 -6.430976e-01   \n",
       "50%   -5.433583e-02 -2.741871e-01  4.010308e-02  2.235804e-02 -5.142873e-02   \n",
       "75%    6.119264e-01  3.985649e-01  5.704361e-01  3.273459e-01  5.971390e-01   \n",
       "max    3.480167e+01  7.330163e+01  1.205895e+02  2.000721e+01  1.559499e+01   \n",
       "\n",
       "       ...           V21           V22           V23           V24  \\\n",
       "count  ...  2.848070e+05  2.848070e+05  2.848070e+05  2.848070e+05   \n",
       "mean   ...  1.537294e-16  7.959909e-16  5.367590e-16  4.458112e-15   \n",
       "std    ...  7.345240e-01  7.257016e-01  6.244603e-01  6.056471e-01   \n",
       "min    ... -3.483038e+01 -1.093314e+01 -4.480774e+01 -2.836627e+00   \n",
       "25%    ... -2.283949e-01 -5.423504e-01 -1.618463e-01 -3.545861e-01   \n",
       "50%    ... -2.945017e-02  6.781943e-03 -1.119293e-02  4.097606e-02   \n",
       "75%    ...  1.863772e-01  5.285536e-01  1.476421e-01  4.395266e-01   \n",
       "max    ...  2.720284e+01  1.050309e+01  2.252841e+01  4.584549e+00   \n",
       "\n",
       "                V25           V26           V27           V28         Amount  \\\n",
       "count  2.848070e+05  2.848070e+05  2.848070e+05  2.848070e+05  284807.000000   \n",
       "mean   1.453003e-15  1.699104e-15 -3.660161e-16 -1.206049e-16      88.349619   \n",
       "std    5.212781e-01  4.822270e-01  4.036325e-01  3.300833e-01     250.120109   \n",
       "min   -1.029540e+01 -2.604551e+00 -2.256568e+01 -1.543008e+01       0.000000   \n",
       "25%   -3.171451e-01 -3.269839e-01 -7.083953e-02 -5.295979e-02       5.600000   \n",
       "50%    1.659350e-02 -5.213911e-02  1.342146e-03  1.124383e-02      22.000000   \n",
       "75%    3.507156e-01  2.409522e-01  9.104512e-02  7.827995e-02      77.165000   \n",
       "max    7.519589e+00  3.517346e+00  3.161220e+01  3.384781e+01   25691.160000   \n",
       "\n",
       "               Class  \n",
       "count  284807.000000  \n",
       "mean        0.001727  \n",
       "std         0.041527  \n",
       "min         0.000000  \n",
       "25%         0.000000  \n",
       "50%         0.000000  \n",
       "75%         0.000000  \n",
       "max         1.000000  \n",
       "\n",
       "[8 rows x 31 columns]"
      ]
     },
     "execution_count": 4,
     "metadata": {},
     "output_type": "execute_result"
    }
   ],
   "source": [
    "ccdata.describe()"
   ]
  },
  {
   "cell_type": "markdown",
   "id": "regulation-protection",
   "metadata": {},
   "source": [
    "# Analyzing and Processing the dataset"
   ]
  },
  {
   "cell_type": "markdown",
   "id": "finished-anchor",
   "metadata": {},
   "source": [
    "## Understanding the Dataset\n",
    "\n",
    "The numerical variables in the dataset are a result of applying a PCA transformation on the original datatset. \n",
    "\n",
    "-Features V1 to V28 are the principal components obtained from using the PCA method.\n",
    "\n",
    "-The 'Time' feature tells us the amount of time(in seconds) that has elapsed between each transaction and the first transaction in the series.\n",
    "\n",
    "-The 'Amount' features is the Transaction amount.\n",
    "\n",
    "-The 'Class' feature is the depandent variable where the value 1 indicates that the transacation is fraudulent and the value 0 indicates otherwise.\n",
    "\n",
    "We are going to drop the Time column as it won't help us while building the classification models"
   ]
  },
  {
   "cell_type": "code",
   "execution_count": 5,
   "id": "smaller-shopper",
   "metadata": {},
   "outputs": [
    {
     "data": {
      "text/html": [
       "<div>\n",
       "<style scoped>\n",
       "    .dataframe tbody tr th:only-of-type {\n",
       "        vertical-align: middle;\n",
       "    }\n",
       "\n",
       "    .dataframe tbody tr th {\n",
       "        vertical-align: top;\n",
       "    }\n",
       "\n",
       "    .dataframe thead th {\n",
       "        text-align: right;\n",
       "    }\n",
       "</style>\n",
       "<table border=\"1\" class=\"dataframe\">\n",
       "  <thead>\n",
       "    <tr style=\"text-align: right;\">\n",
       "      <th></th>\n",
       "      <th>V1</th>\n",
       "      <th>V2</th>\n",
       "      <th>V3</th>\n",
       "      <th>V4</th>\n",
       "      <th>V5</th>\n",
       "      <th>V6</th>\n",
       "      <th>V7</th>\n",
       "      <th>V8</th>\n",
       "      <th>V9</th>\n",
       "      <th>V10</th>\n",
       "      <th>...</th>\n",
       "      <th>V21</th>\n",
       "      <th>V22</th>\n",
       "      <th>V23</th>\n",
       "      <th>V24</th>\n",
       "      <th>V25</th>\n",
       "      <th>V26</th>\n",
       "      <th>V27</th>\n",
       "      <th>V28</th>\n",
       "      <th>Amount</th>\n",
       "      <th>Class</th>\n",
       "    </tr>\n",
       "  </thead>\n",
       "  <tbody>\n",
       "    <tr>\n",
       "      <th>0</th>\n",
       "      <td>-1.359807</td>\n",
       "      <td>-0.072781</td>\n",
       "      <td>2.536347</td>\n",
       "      <td>1.378155</td>\n",
       "      <td>-0.338321</td>\n",
       "      <td>0.462388</td>\n",
       "      <td>0.239599</td>\n",
       "      <td>0.098698</td>\n",
       "      <td>0.363787</td>\n",
       "      <td>0.090794</td>\n",
       "      <td>...</td>\n",
       "      <td>-0.018307</td>\n",
       "      <td>0.277838</td>\n",
       "      <td>-0.110474</td>\n",
       "      <td>0.066928</td>\n",
       "      <td>0.128539</td>\n",
       "      <td>-0.189115</td>\n",
       "      <td>0.133558</td>\n",
       "      <td>-0.021053</td>\n",
       "      <td>149.62</td>\n",
       "      <td>0</td>\n",
       "    </tr>\n",
       "    <tr>\n",
       "      <th>1</th>\n",
       "      <td>1.191857</td>\n",
       "      <td>0.266151</td>\n",
       "      <td>0.166480</td>\n",
       "      <td>0.448154</td>\n",
       "      <td>0.060018</td>\n",
       "      <td>-0.082361</td>\n",
       "      <td>-0.078803</td>\n",
       "      <td>0.085102</td>\n",
       "      <td>-0.255425</td>\n",
       "      <td>-0.166974</td>\n",
       "      <td>...</td>\n",
       "      <td>-0.225775</td>\n",
       "      <td>-0.638672</td>\n",
       "      <td>0.101288</td>\n",
       "      <td>-0.339846</td>\n",
       "      <td>0.167170</td>\n",
       "      <td>0.125895</td>\n",
       "      <td>-0.008983</td>\n",
       "      <td>0.014724</td>\n",
       "      <td>2.69</td>\n",
       "      <td>0</td>\n",
       "    </tr>\n",
       "    <tr>\n",
       "      <th>2</th>\n",
       "      <td>-1.358354</td>\n",
       "      <td>-1.340163</td>\n",
       "      <td>1.773209</td>\n",
       "      <td>0.379780</td>\n",
       "      <td>-0.503198</td>\n",
       "      <td>1.800499</td>\n",
       "      <td>0.791461</td>\n",
       "      <td>0.247676</td>\n",
       "      <td>-1.514654</td>\n",
       "      <td>0.207643</td>\n",
       "      <td>...</td>\n",
       "      <td>0.247998</td>\n",
       "      <td>0.771679</td>\n",
       "      <td>0.909412</td>\n",
       "      <td>-0.689281</td>\n",
       "      <td>-0.327642</td>\n",
       "      <td>-0.139097</td>\n",
       "      <td>-0.055353</td>\n",
       "      <td>-0.059752</td>\n",
       "      <td>378.66</td>\n",
       "      <td>0</td>\n",
       "    </tr>\n",
       "    <tr>\n",
       "      <th>3</th>\n",
       "      <td>-0.966272</td>\n",
       "      <td>-0.185226</td>\n",
       "      <td>1.792993</td>\n",
       "      <td>-0.863291</td>\n",
       "      <td>-0.010309</td>\n",
       "      <td>1.247203</td>\n",
       "      <td>0.237609</td>\n",
       "      <td>0.377436</td>\n",
       "      <td>-1.387024</td>\n",
       "      <td>-0.054952</td>\n",
       "      <td>...</td>\n",
       "      <td>-0.108300</td>\n",
       "      <td>0.005274</td>\n",
       "      <td>-0.190321</td>\n",
       "      <td>-1.175575</td>\n",
       "      <td>0.647376</td>\n",
       "      <td>-0.221929</td>\n",
       "      <td>0.062723</td>\n",
       "      <td>0.061458</td>\n",
       "      <td>123.50</td>\n",
       "      <td>0</td>\n",
       "    </tr>\n",
       "    <tr>\n",
       "      <th>4</th>\n",
       "      <td>-1.158233</td>\n",
       "      <td>0.877737</td>\n",
       "      <td>1.548718</td>\n",
       "      <td>0.403034</td>\n",
       "      <td>-0.407193</td>\n",
       "      <td>0.095921</td>\n",
       "      <td>0.592941</td>\n",
       "      <td>-0.270533</td>\n",
       "      <td>0.817739</td>\n",
       "      <td>0.753074</td>\n",
       "      <td>...</td>\n",
       "      <td>-0.009431</td>\n",
       "      <td>0.798278</td>\n",
       "      <td>-0.137458</td>\n",
       "      <td>0.141267</td>\n",
       "      <td>-0.206010</td>\n",
       "      <td>0.502292</td>\n",
       "      <td>0.219422</td>\n",
       "      <td>0.215153</td>\n",
       "      <td>69.99</td>\n",
       "      <td>0</td>\n",
       "    </tr>\n",
       "  </tbody>\n",
       "</table>\n",
       "<p>5 rows × 30 columns</p>\n",
       "</div>"
      ],
      "text/plain": [
       "         V1        V2        V3        V4        V5        V6        V7  \\\n",
       "0 -1.359807 -0.072781  2.536347  1.378155 -0.338321  0.462388  0.239599   \n",
       "1  1.191857  0.266151  0.166480  0.448154  0.060018 -0.082361 -0.078803   \n",
       "2 -1.358354 -1.340163  1.773209  0.379780 -0.503198  1.800499  0.791461   \n",
       "3 -0.966272 -0.185226  1.792993 -0.863291 -0.010309  1.247203  0.237609   \n",
       "4 -1.158233  0.877737  1.548718  0.403034 -0.407193  0.095921  0.592941   \n",
       "\n",
       "         V8        V9       V10  ...       V21       V22       V23       V24  \\\n",
       "0  0.098698  0.363787  0.090794  ... -0.018307  0.277838 -0.110474  0.066928   \n",
       "1  0.085102 -0.255425 -0.166974  ... -0.225775 -0.638672  0.101288 -0.339846   \n",
       "2  0.247676 -1.514654  0.207643  ...  0.247998  0.771679  0.909412 -0.689281   \n",
       "3  0.377436 -1.387024 -0.054952  ... -0.108300  0.005274 -0.190321 -1.175575   \n",
       "4 -0.270533  0.817739  0.753074  ... -0.009431  0.798278 -0.137458  0.141267   \n",
       "\n",
       "        V25       V26       V27       V28  Amount  Class  \n",
       "0  0.128539 -0.189115  0.133558 -0.021053  149.62      0  \n",
       "1  0.167170  0.125895 -0.008983  0.014724    2.69      0  \n",
       "2 -0.327642 -0.139097 -0.055353 -0.059752  378.66      0  \n",
       "3  0.647376 -0.221929  0.062723  0.061458  123.50      0  \n",
       "4 -0.206010  0.502292  0.219422  0.215153   69.99      0  \n",
       "\n",
       "[5 rows x 30 columns]"
      ]
     },
     "execution_count": 5,
     "metadata": {},
     "output_type": "execute_result"
    }
   ],
   "source": [
    "ccdata.drop('Time', axis = 1, inplace = True)\n",
    "ccdata.head()"
   ]
  },
  {
   "cell_type": "code",
   "execution_count": 6,
   "id": "christian-favor",
   "metadata": {},
   "outputs": [
    {
     "name": "stdout",
     "output_type": "stream",
     "text": [
      "The Total number of missing values found in the Class column of the Credit Card Dataset is 0\n"
     ]
    }
   ],
   "source": [
    "## Checking the Dataset for any missing values\n",
    "\n",
    "print(\"The Total number of missing values found in the Class column of the Credit Card Dataset is\", \n",
    "      ccdata['Class'].isnull().sum())"
   ]
  },
  {
   "cell_type": "code",
   "execution_count": 7,
   "id": "legendary-terrorist",
   "metadata": {},
   "outputs": [
    {
     "data": {
      "text/plain": [
       "0         0\n",
       "1         0\n",
       "2         0\n",
       "3         0\n",
       "4         0\n",
       "         ..\n",
       "284802    0\n",
       "284803    0\n",
       "284804    0\n",
       "284805    0\n",
       "284806    0\n",
       "Name: Class, Length: 284807, dtype: int64"
      ]
     },
     "execution_count": 7,
     "metadata": {},
     "output_type": "execute_result"
    }
   ],
   "source": [
    "ccdata.loc[:, 'Class']"
   ]
  },
  {
   "cell_type": "code",
   "execution_count": 8,
   "id": "equal-designation",
   "metadata": {},
   "outputs": [
    {
     "data": {
      "text/plain": [
       "array([0, 1])"
      ]
     },
     "execution_count": 8,
     "metadata": {},
     "output_type": "execute_result"
    }
   ],
   "source": [
    "ccdata['Class'].unique()"
   ]
  },
  {
   "cell_type": "markdown",
   "id": "portable-vector",
   "metadata": {},
   "source": [
    "## Checking the number of fraudulent cases in the entire dataset\n"
   ]
  },
  {
   "cell_type": "code",
   "execution_count": 9,
   "id": "based-catalyst",
   "metadata": {},
   "outputs": [
    {
     "name": "stdout",
     "output_type": "stream",
     "text": [
      "The Total amount of transactions in the ccdataset is: 284807 \n",
      "\n",
      "The Amount of Fraudulent Transactions in the ccdataset is: 492 \n",
      "\n",
      "The Amount of Non-Fraudulent(Genuine) Transactions in the ccdataset is: 284315 \n",
      "\n",
      "The Percentage of the Instances where the teansaaction has been found to be fraudulent: 0.173\n"
     ]
    }
   ],
   "source": [
    "Cases = len(ccdata)\n",
    "print(\"The Total amount of transactions in the ccdataset is:\", Cases,\"\\n\")\n",
    "\n",
    "FraudCount = len(ccdata[ccdata['Class'] == 1])\n",
    "print(\"The Amount of Fraudulent Transactions in the ccdataset is:\", FraudCount,\"\\n\")\n",
    "\n",
    "NonFraudCount = Cases - FraudCount \n",
    "print(\"The Amount of Non-Fraudulent(Genuine) Transactions in the ccdataset is:\", NonFraudCount,\"\\n\")\n",
    "\n",
    "FraudPercent = FraudCount/Cases * 100\n",
    "FraudPercent = round(FraudPercent, 3)\n",
    "\n",
    "print(\"The Percentage of the Instances where the teansaaction has been found to be fraudulent:\",FraudPercent)"
   ]
  },
  {
   "cell_type": "markdown",
   "id": "quick-payroll",
   "metadata": {},
   "source": [
    "## The need for data scaling\n",
    "\n",
    "0.173% being the total percentage of cases where fraudulent transcations have occured shows us that the data we are dealing with is highly imbalanced. This needs to be addressed before bulding the models and evaluting their coressponding results.\n",
    "\n",
    "To better understand this, we are going to have a closer look at the Fraudulent and the Non-Fraudulent cases(Genuine Transactions)"
   ]
  },
  {
   "cell_type": "code",
   "execution_count": 10,
   "id": "similar-graduate",
   "metadata": {},
   "outputs": [],
   "source": [
    "FraudCases = ccdata[ccdata['Class'] == 1]"
   ]
  },
  {
   "cell_type": "code",
   "execution_count": 11,
   "id": "israeli-football",
   "metadata": {},
   "outputs": [],
   "source": [
    "NonFraudCases = ccdata[ccdata['Class'] == 0]"
   ]
  },
  {
   "cell_type": "code",
   "execution_count": 12,
   "id": "basic-material",
   "metadata": {},
   "outputs": [
    {
     "name": "stdout",
     "output_type": "stream",
     "text": [
      "Statistical Breakdown of the Instances which were found to be Fraudulent: \n",
      "\n",
      " count     492.000000\n",
      "mean      122.211321\n",
      "std       256.683288\n",
      "min         0.000000\n",
      "25%         1.000000\n",
      "50%         9.250000\n",
      "75%       105.890000\n",
      "max      2125.870000\n",
      "Name: Amount, dtype: float64\n"
     ]
    }
   ],
   "source": [
    "print(\"Statistical Breakdown of the Instances which were found to be Fraudulent: \\n\\n\", FraudCases['Amount'].describe())\n"
   ]
  },
  {
   "cell_type": "code",
   "execution_count": 13,
   "id": "supported-sweet",
   "metadata": {},
   "outputs": [
    {
     "name": "stdout",
     "output_type": "stream",
     "text": [
      "Statistical Breakdown of the Instances which were Genuine: \n",
      "\n",
      " count    284315.000000\n",
      "mean         88.291022\n",
      "std         250.105092\n",
      "min           0.000000\n",
      "25%           5.650000\n",
      "50%          22.000000\n",
      "75%          77.050000\n",
      "max       25691.160000\n",
      "Name: Amount, dtype: float64\n"
     ]
    }
   ],
   "source": [
    "print(\"Statistical Breakdown of the Instances which were Genuine: \\n\\n\", NonFraudCases['Amount'].describe())"
   ]
  },
  {
   "cell_type": "markdown",
   "id": "atlantic-deposit",
   "metadata": {},
   "source": [
    "PCA (Prinicpal Component Analysis) is a method that this is used to reduce the dimensionality of a datatset while trying to retain as much information as possible. While seeing the statistics of the 'Amount' values in both features, we can see that it's values varies a lot when compared to the rest of the variables. To reduce it's wide range of values, we are going to standarise it by using the standardscaler class which is part of the skearn package.\n",
    "\n",
    "Why Standardisation? By standardising the values, we can shift the distributioun of each attribute to have a mean of zero and a sd of 1. Rescaled data from standaradisation also works better with Classification models which aligns with our objective. "
   ]
  },
  {
   "cell_type": "code",
   "execution_count": 14,
   "id": "framed-florida",
   "metadata": {},
   "outputs": [
    {
     "name": "stdout",
     "output_type": "stream",
     "text": [
      "0    0.244964\n",
      "1   -0.342475\n",
      "2    1.160686\n",
      "3    0.140534\n",
      "4   -0.073403\n",
      "5   -0.338556\n",
      "6   -0.333279\n",
      "7   -0.190107\n",
      "8    0.019392\n",
      "9   -0.338516\n",
      "Name: Amount, dtype: float64\n"
     ]
    }
   ],
   "source": [
    "#Importing the StandardScaler class from the sklearn package\n",
    "from sklearn.preprocessing import StandardScaler \n",
    "\n",
    "#setting up the Scaler\n",
    "scaler = StandardScaler() \n",
    "\n",
    "#Loading the values of the 'Amount' column that need to be standardised\n",
    "scaledamount = ccdata['Amount'].values \n",
    "\n",
    "#Rewriting the imbalanced values with the Scaled ones\n",
    "ccdata['Amount'] = scaler.fit_transform(scaledamount.reshape(-1,1))\n",
    "\n",
    "print(ccdata['Amount'].head(10))\n"
   ]
  },
  {
   "cell_type": "markdown",
   "id": "civic-playlist",
   "metadata": {},
   "source": [
    "### Feature Selection and Splitting the Dataset\n",
    "\n",
    "In this step, we define the dependent variable(y) and the independent variable(x). Here, the 'Class' Feature is going to be our dependent variable(y) that is poised against the other columns of the dataset(x)\n",
    "\n",
    "After deciding our features, we split thw dataset into a Training set & a Testing set to build. These sets will be to build models and will be further used to make predictions off of these very models. For this project, we are going to split the sets in a (75/25) Ratio.\n",
    "\n",
    "We can split the dataset using the train_test_split function that is a part of sklearn package"
   ]
  },
  {
   "cell_type": "code",
   "execution_count": 15,
   "id": "separated-cleanup",
   "metadata": {},
   "outputs": [],
   "source": [
    "from sklearn.model_selection import train_test_split # Function for splitting the data\n",
    "\n",
    "x = ccdata.drop('Class', axis = 1).values #Independent Feature\n",
    "y = ccdata['Class'].values #dependent variable\n",
    "\n",
    "x_train, x_test, y_train, y_test = train_test_split(x,y , test_size = 0.25, random_state = 0)"
   ]
  },
  {
   "cell_type": "markdown",
   "id": "assured-advertiser",
   "metadata": {},
   "source": [
    "# Modelling "
   ]
  },
  {
   "cell_type": "markdown",
   "id": "automated-edinburgh",
   "metadata": {},
   "source": [
    "## 1.) Logistic Regression "
   ]
  },
  {
   "cell_type": "code",
   "execution_count": 16,
   "id": "pediatric-briefs",
   "metadata": {},
   "outputs": [
    {
     "name": "stdout",
     "output_type": "stream",
     "text": [
      "The Accuracy Score of the Logistic Regression Model is 0.9992977725344794\n"
     ]
    }
   ],
   "source": [
    "from sklearn.linear_model import LogisticRegression\n",
    "from sklearn.metrics import confusion_matrix, accuracy_score,classification_report, f1_score\n",
    "\n",
    "model = LogisticRegression()\n",
    "\n",
    "model.fit(x_train,y_train)\n",
    "\n",
    "y_pred = model.predict(x_test)\n",
    "\n",
    "ac_lr = accuracy_score(y_test, y_pred)\n",
    "print(\"The Accuracy Score of the Logistic Regression Model is\",ac_lr)"
   ]
  },
  {
   "cell_type": "code",
   "execution_count": 17,
   "id": "beneficial-pricing",
   "metadata": {},
   "outputs": [
    {
     "name": "stdout",
     "output_type": "stream",
     "text": [
      "The Coonfusion Matrix of the Logistic Regression Model:\n",
      "\n",
      " [[71071    11]\n",
      " [   39    81]]\n"
     ]
    }
   ],
   "source": [
    "cm_lr = confusion_matrix(y_test, y_pred)\n",
    "print(\"The Coonfusion Matrix of the Logistic Regression Model:\\n\\n\",cm_lr)"
   ]
  },
  {
   "cell_type": "code",
   "execution_count": 18,
   "id": "pretty-cruise",
   "metadata": {},
   "outputs": [
    {
     "name": "stdout",
     "output_type": "stream",
     "text": [
      "The Classification Report of the Logistic Regressiono model:\n",
      "\n",
      "               precision    recall  f1-score   support\n",
      "\n",
      "           0       1.00      1.00      1.00     71082\n",
      "           1       0.88      0.68      0.76       120\n",
      "\n",
      "    accuracy                           1.00     71202\n",
      "   macro avg       0.94      0.84      0.88     71202\n",
      "weighted avg       1.00      1.00      1.00     71202\n",
      "\n"
     ]
    }
   ],
   "source": [
    "\n",
    "ar_lr = classification_report(y_test, y_pred)\n",
    "print(\"The Classification Report of the Logistic Regressiono model:\\n\\n\",ar_lr)"
   ]
  },
  {
   "cell_type": "markdown",
   "id": "humanitarian-fellow",
   "metadata": {},
   "source": [
    "## 2.) Decision Tree Classfier\n"
   ]
  },
  {
   "cell_type": "code",
   "execution_count": 19,
   "id": "applied-weekly",
   "metadata": {},
   "outputs": [
    {
     "data": {
      "text/plain": [
       "DecisionTreeClassifier(criterion='entropy', max_depth=4)"
      ]
     },
     "execution_count": 19,
     "metadata": {},
     "output_type": "execute_result"
    }
   ],
   "source": [
    "from sklearn.tree import DecisionTreeClassifier \n",
    "\n",
    "treemodel =  DecisionTreeClassifier(max_depth = 4, criterion = 'entropy')\n",
    "treemodel.fit(x_train, y_train)"
   ]
  },
  {
   "cell_type": "code",
   "execution_count": 20,
   "id": "everyday-matter",
   "metadata": {},
   "outputs": [],
   "source": [
    "tree_y_pred =  treemodel.predict(x_test)"
   ]
  },
  {
   "cell_type": "code",
   "execution_count": 21,
   "id": "irish-brunswick",
   "metadata": {},
   "outputs": [
    {
     "name": "stdout",
     "output_type": "stream",
     "text": [
      "The Accuracy score of the Decision Tree model is 0.9993960843796522\n"
     ]
    }
   ],
   "source": [
    "ac_tree = accuracy_score(y_test, tree_y_pred)\n",
    "print(\"The Accuracy score of the Decision Tree model is\",ac_tree)"
   ]
  },
  {
   "cell_type": "code",
   "execution_count": 22,
   "id": "mounted-violin",
   "metadata": {},
   "outputs": [
    {
     "name": "stdout",
     "output_type": "stream",
     "text": [
      "The Confusion Matrix of the Decision Tree Model:\n",
      " [[71068    14]\n",
      " [   29    91]]\n"
     ]
    }
   ],
   "source": [
    "cm_tree = confusion_matrix(y_test, tree_y_pred)\n",
    "print(\"The Confusion Matrix of the Decision Tree Model:\\n\",cm_tree)"
   ]
  },
  {
   "cell_type": "code",
   "execution_count": 23,
   "id": "nuclear-average",
   "metadata": {},
   "outputs": [
    {
     "name": "stdout",
     "output_type": "stream",
     "text": [
      "The Classification Report of the the Decision Tree Model\n",
      "               precision    recall  f1-score   support\n",
      "\n",
      "           0       1.00      1.00      1.00     71082\n",
      "           1       0.87      0.76      0.81       120\n",
      "\n",
      "    accuracy                           1.00     71202\n",
      "   macro avg       0.93      0.88      0.90     71202\n",
      "weighted avg       1.00      1.00      1.00     71202\n",
      "\n"
     ]
    }
   ],
   "source": [
    "cr_tree = classification_report(y_test, tree_y_pred)\n",
    "print(\"The Classification Report of the the Decision Tree Model\\n\",cr_tree)"
   ]
  },
  {
   "cell_type": "markdown",
   "id": "typical-lobby",
   "metadata": {},
   "source": [
    "## 3.) K-Nearest Neighbours"
   ]
  },
  {
   "cell_type": "code",
   "execution_count": 24,
   "id": "first-seattle",
   "metadata": {},
   "outputs": [],
   "source": [
    "from sklearn.neighbors import KNeighborsClassifier \n",
    "\n",
    "knnmodel = KNeighborsClassifier(n_neighbors = 4)"
   ]
  },
  {
   "cell_type": "code",
   "execution_count": 25,
   "id": "registered-italian",
   "metadata": {},
   "outputs": [
    {
     "data": {
      "text/plain": [
       "KNeighborsClassifier(n_neighbors=4)"
      ]
     },
     "execution_count": 25,
     "metadata": {},
     "output_type": "execute_result"
    }
   ],
   "source": [
    "knnmodel.fit(x_train, y_train)"
   ]
  },
  {
   "cell_type": "code",
   "execution_count": 26,
   "id": "automatic-finder",
   "metadata": {},
   "outputs": [],
   "source": [
    "knn_y_pred = knnmodel.predict(x_test)"
   ]
  },
  {
   "cell_type": "code",
   "execution_count": 27,
   "id": "amber-worcester",
   "metadata": {},
   "outputs": [
    {
     "name": "stdout",
     "output_type": "stream",
     "text": [
      "The Accuracy score of the KNN model is 0.9994803516755147\n"
     ]
    }
   ],
   "source": [
    "ac_knn = accuracy_score(y_test, knn_y_pred)\n",
    "print(\"The Accuracy score of the KNN model is\",ac_knn)"
   ]
  },
  {
   "cell_type": "code",
   "execution_count": 28,
   "id": "thorough-income",
   "metadata": {},
   "outputs": [
    {
     "name": "stdout",
     "output_type": "stream",
     "text": [
      "The Confusion Matrix of the KNN Model:\n",
      " [[71077     5]\n",
      " [   32    88]]\n"
     ]
    }
   ],
   "source": [
    "cm_knn = confusion_matrix(y_test, knn_y_pred)\n",
    "print(\"The Confusion Matrix of the KNN Model:\\n\",cm_knn)"
   ]
  },
  {
   "cell_type": "code",
   "execution_count": 29,
   "id": "jewish-disease",
   "metadata": {},
   "outputs": [
    {
     "name": "stdout",
     "output_type": "stream",
     "text": [
      "The Classification Report of the the Decision Tree Model:\n",
      "               precision    recall  f1-score   support\n",
      "\n",
      "           0       1.00      1.00      1.00     71082\n",
      "           1       0.95      0.73      0.83       120\n",
      "\n",
      "    accuracy                           1.00     71202\n",
      "   macro avg       0.97      0.87      0.91     71202\n",
      "weighted avg       1.00      1.00      1.00     71202\n",
      "\n"
     ]
    }
   ],
   "source": [
    "cr_knn = classification_report(y_test, knn_y_pred)\n",
    "print(\"The Classification Report of the the Decision Tree Model:\\n\",cr_knn)"
   ]
  },
  {
   "cell_type": "markdown",
   "id": "equipped-trash",
   "metadata": {},
   "source": [
    "## 4.) Support Vector Machines\n"
   ]
  },
  {
   "cell_type": "code",
   "execution_count": 30,
   "id": "funded-output",
   "metadata": {},
   "outputs": [],
   "source": [
    "from sklearn.svm import SVC \n",
    "\n",
    "svmmodel = SVC()"
   ]
  },
  {
   "cell_type": "code",
   "execution_count": 31,
   "id": "dutch-deposit",
   "metadata": {},
   "outputs": [
    {
     "data": {
      "text/plain": [
       "SVC()"
      ]
     },
     "execution_count": 31,
     "metadata": {},
     "output_type": "execute_result"
    }
   ],
   "source": [
    "svmmodel.fit(x_train, y_train)"
   ]
  },
  {
   "cell_type": "code",
   "execution_count": 32,
   "id": "excess-whole",
   "metadata": {},
   "outputs": [],
   "source": [
    "svm_y_pred = svmmodel.predict(x_test)"
   ]
  },
  {
   "cell_type": "code",
   "execution_count": 33,
   "id": "complete-indication",
   "metadata": {},
   "outputs": [
    {
     "name": "stdout",
     "output_type": "stream",
     "text": [
      "The Accuracy score of the SVM model is 0.9993539507317211\n"
     ]
    }
   ],
   "source": [
    "ac_svm = accuracy_score(y_test, svm_y_pred)\n",
    "print(\"The Accuracy score of the SVM model is\",ac_svm)"
   ]
  },
  {
   "cell_type": "code",
   "execution_count": 34,
   "id": "weird-advertising",
   "metadata": {},
   "outputs": [
    {
     "name": "stdout",
     "output_type": "stream",
     "text": [
      "The Confusion Matrix of the SVM Model:\n",
      " [[71076     6]\n",
      " [   40    80]]\n"
     ]
    }
   ],
   "source": [
    "cm_svm = confusion_matrix(y_test, svm_y_pred)\n",
    "print(\"The Confusion Matrix of the SVM Model:\\n\",cm_svm)"
   ]
  },
  {
   "cell_type": "code",
   "execution_count": 35,
   "id": "charitable-landscape",
   "metadata": {},
   "outputs": [
    {
     "name": "stdout",
     "output_type": "stream",
     "text": [
      "The Classification Report for the SVM Model:\n",
      "               precision    recall  f1-score   support\n",
      "\n",
      "           0       1.00      1.00      1.00     71082\n",
      "           1       0.93      0.67      0.78       120\n",
      "\n",
      "    accuracy                           1.00     71202\n",
      "   macro avg       0.96      0.83      0.89     71202\n",
      "weighted avg       1.00      1.00      1.00     71202\n",
      "\n"
     ]
    }
   ],
   "source": [
    "cr_svm = classification_report(y_test, svm_y_pred)\n",
    "print(\"The Classification Report for the SVM Model:\\n\",cr_svm)"
   ]
  },
  {
   "cell_type": "markdown",
   "id": "necessary-christmas",
   "metadata": {},
   "source": [
    "\n",
    "## 5.) Random Forest Classfier"
   ]
  },
  {
   "cell_type": "code",
   "execution_count": 36,
   "id": "agreed-biography",
   "metadata": {},
   "outputs": [],
   "source": [
    "from sklearn.ensemble import RandomForestClassifier \n",
    "\n",
    "rfmodel = RandomForestClassifier(max_depth =  4)"
   ]
  },
  {
   "cell_type": "code",
   "execution_count": 37,
   "id": "controversial-tourist",
   "metadata": {},
   "outputs": [
    {
     "data": {
      "text/plain": [
       "RandomForestClassifier(max_depth=4)"
      ]
     },
     "execution_count": 37,
     "metadata": {},
     "output_type": "execute_result"
    }
   ],
   "source": [
    "rfmodel.fit(x_train,y_train)"
   ]
  },
  {
   "cell_type": "code",
   "execution_count": 38,
   "id": "lightweight-mauritius",
   "metadata": {},
   "outputs": [],
   "source": [
    "rf_y_pred = rfmodel.predict(x_test)"
   ]
  },
  {
   "cell_type": "code",
   "execution_count": 39,
   "id": "answering-malta",
   "metadata": {},
   "outputs": [
    {
     "name": "stdout",
     "output_type": "stream",
     "text": [
      "The Accuracy score of the Random Forest Tree model is 0.9993820398303418\n"
     ]
    }
   ],
   "source": [
    "ac_rf = accuracy_score(y_test, rf_y_pred)\n",
    "print(\"The Accuracy score of the Random Forest Tree model is\",ac_rf)"
   ]
  },
  {
   "cell_type": "code",
   "execution_count": 40,
   "id": "incorrect-blond",
   "metadata": {},
   "outputs": [
    {
     "name": "stdout",
     "output_type": "stream",
     "text": [
      "The confusion Matrix of the Random Forest Tree model:\n",
      " [[71074     8]\n",
      " [   36    84]]\n"
     ]
    }
   ],
   "source": [
    "cm_rf = confusion_matrix(y_test, rf_y_pred)\n",
    "print(\"The confusion Matrix of the Random Forest Tree model:\\n\",cm_rf)"
   ]
  },
  {
   "cell_type": "code",
   "execution_count": 41,
   "id": "rocky-bankruptcy",
   "metadata": {},
   "outputs": [
    {
     "name": "stdout",
     "output_type": "stream",
     "text": [
      "The Classfication Report of the Random Forest Tree model:\n",
      "               precision    recall  f1-score   support\n",
      "\n",
      "           0       1.00      1.00      1.00     71082\n",
      "           1       0.91      0.70      0.79       120\n",
      "\n",
      "    accuracy                           1.00     71202\n",
      "   macro avg       0.96      0.85      0.90     71202\n",
      "weighted avg       1.00      1.00      1.00     71202\n",
      "\n"
     ]
    }
   ],
   "source": [
    "ar_rf = classification_report(y_test,rf_y_pred)\n",
    "print(\"The Classfication Report of the Random Forest Tree model:\\n\",ar_rf)"
   ]
  },
  {
   "cell_type": "markdown",
   "id": "velvet-structure",
   "metadata": {},
   "source": [
    "# Evaluation\n",
    "\n"
   ]
  },
  {
   "cell_type": "markdown",
   "id": "martial-deficit",
   "metadata": {},
   "source": [
    "We are going to test the different classifcation models we have built using evaluation metrics from the sklearn package. Using these evaluation metrics, we will decide the best model we have built for this dataset. As you can see above, the parameters we use for evaluation here are the Accuracy score, Confusion matrix and the Values in the Classfication Report\n"
   ]
  },
  {
   "cell_type": "markdown",
   "id": "urban-practitioner",
   "metadata": {},
   "source": [
    "## 1.) Classfication Accuracy \n",
    "\n",
    "Accuracy (Accuracy Scores to be specific here) is the ratio between the number of Correct Predictions and the Total number of Predictions. It's the most common evaluation metric for Clasification Problems."
   ]
  },
  {
   "cell_type": "code",
   "execution_count": 42,
   "id": "clinical-behalf",
   "metadata": {},
   "outputs": [
    {
     "name": "stdout",
     "output_type": "stream",
     "text": [
      "ACCURACY SCORES\n",
      "\n",
      "The Accuracy score of the Logistic Regression model is 0.999298\n",
      "\n",
      "The Accuracy score of the Decision Tree model is 0.999396\n",
      "\n",
      "The Accuracy score of the KNN model is 0.99948\n",
      "\n",
      "The Accuracy score of the SVM model is 0.999354\n",
      "\n",
      "The Accuracy score of the Random Forest Tree model is 0.999382\n"
     ]
    }
   ],
   "source": [
    "print(\"ACCURACY SCORES\")\n",
    "print(\"\\nThe Accuracy score of the Logistic Regression model is\",ac_lr)\n",
    "print(\"\\nThe Accuracy score of the Decision Tree model is\",ac_tree)\n",
    "print(\"\\nThe Accuracy score of the KNN model is\",ac_knn)\n",
    "print(\"\\nThe Accuracy score of the SVM model is\",ac_svm)\n",
    "print(\"\\nThe Accuracy score of the Random Forest Tree model is\",ac_rf)"
   ]
  },
  {
   "cell_type": "markdown",
   "id": "affiliated-recipe",
   "metadata": {},
   "source": [
    "Comparing the Accuracy scores(AS) of the models, we can see that the AS of the KNN Model is the highest whereas the AS of the Logistic Regression Model is at the bottom when compared to the rest. From this we can assume the KNN model to be most accurate model of the 5. "
   ]
  },
  {
   "cell_type": "markdown",
   "id": "useful-conservative",
   "metadata": {},
   "source": [
    "## 2. ) Confusion Matrix "
   ]
  },
  {
   "cell_type": "code",
   "execution_count": 46,
   "id": "local-thompson",
   "metadata": {},
   "outputs": [
    {
     "name": "stdout",
     "output_type": "stream",
     "text": [
      "The Confusion Matrix of the Logistic Regression model is\n",
      " [[71071    11]\n",
      " [   39    81]]\n",
      "\n",
      "\n",
      "The Confusion Matrix for the KNN Model is\n",
      " [[71077     5]\n",
      " [   32    88]]\n",
      "\n",
      "\n",
      "The confusion Matrix of the Decision Tree Model is\n",
      " [[71068    14]\n",
      " [   29    91]]\n",
      "\n",
      "\n",
      "The Confusion Matrix for the SVM Model is\n",
      " [[71076     6]\n",
      " [   40    80]]\n",
      "\n",
      "\n",
      "The confusion Matrix for the Random Forest Tree model:\n",
      " [[71074     8]\n",
      " [   36    84]]\n"
     ]
    }
   ],
   "source": [
    "print(\"The Confusion Matrix of the Logistic Regression model is\\n\",cm_lr)\n",
    "print(\"\\n\\nThe Confusion Matrix for the KNN Model is\\n\",cm_knn)\n",
    "print(\"\\n\\nThe confusion Matrix of the Decision Tree Model is\\n\",cm_tree)\n",
    "print(\"\\n\\nThe Confusion Matrix for the SVM Model is\\n\",cm_svm)\n",
    "print(\"\\n\\nThe confusion Matrix for the Random Forest Tree model:\\n\",cm_rf)"
   ]
  },
  {
   "cell_type": "markdown",
   "id": "separated-effectiveness",
   "metadata": {},
   "source": [
    "## Breaking down the Confusion Matrix:\n",
    "\n",
    "The confusioin matrix is a table that tells us the performance of the Classifcation Model. It sets the predicted values made by the model against the actual values. There output of the tale should be read as\n",
    "\n",
    "|X                                 |  Predicted Yes      |  Predicted No      |\n",
    "|---:|:-------------|:-----------|\n",
    "| Actual Yes(Genuine Transaction)  |  True Positive(TP)  |  False Negative(FN)|\n",
    "| Actual No(Fraudulent Transaction)|  False Positive(FP) |  True Negative(TN) |\n",
    "\n",
    "\n",
    "True Positives (TP): These are the cases where the prediction is yes and it lines with up the actual values(Genuine Transactions).\n",
    "\n",
    "True Negatives (TN): The Prediction is no and it's true as it's a Fraudulent Transaction\n",
    "\n",
    "False Positives(FP): The Prediction is yes but it's False as it's a Fraudulent Transaction (Type I error)\n",
    "\n",
    "False Negatives(FN): The Prediction is no, but it's False as it's a Genuine Transaction (Type II error)\n",
    "\n",
    "\n"
   ]
  },
  {
   "cell_type": "markdown",
   "id": "organized-wrist",
   "metadata": {},
   "source": [
    "#### We get the Classificaition Report values of a model by using these confusion matrix values in our calculations:\n",
    "\n",
    "Accuracy = (TruePositive + TrueNegative)/Total Number of cases\n",
    "\n",
    "Precision = TruePositives / (TruePositives + FalsePositives)\n",
    "\n",
    "Recall = TruePositives / (TruePositives + FalseNegatives)\n",
    "\n",
    "Recall = TruePositives / (TruePositives + FalseNegatives)\n",
    "\n",
    "F-Measure = (2 * Precision * Recall) / (Precision + Recall)\n",
    "\n",
    "\n",
    "Comparing the above Confusion Matrices, we can see that the sum of the True Positive and the True Negative values are the highest. This means that the model has classifed 71077 Genuine cases as true(which is the highest) and flagged 88 Fraudulent cases as False(second highest compared to the other models). So seeing it's high TP and TN values, we assume that it's the most accurate out of all the models\n",
    "\n"
   ]
  },
  {
   "cell_type": "markdown",
   "id": "silent-creek",
   "metadata": {},
   "source": [
    "## 3.) F1 Scores\n",
    "\n",
    "Accuracy Score isn't the only thing we use to evaluate our models. The F1 or the F-Score is another popular metric that is used to evaluate Classification models. It is defined as the harmonic mean of the Precision(no of True Positive results divided by the number of all positive results) and Recall(no of True Positive results divided by the number of all the samples that should have identified as positive) \n",
    "\n",
    "Using the Classification report function from the sklearn package we can see the Precision, Recall and the F1 score for all the models"
   ]
  },
  {
   "cell_type": "code",
   "execution_count": 43,
   "id": "accompanied-jewel",
   "metadata": {},
   "outputs": [
    {
     "name": "stdout",
     "output_type": "stream",
     "text": [
      "F1 SCORES\n",
      "\n",
      "The F1 score of the Logistic Regression Model is 0.7641509433962266\n",
      "\n",
      "The F1 score of the Decision Tree Model is 0.808888888888889\n",
      "\n",
      "The F1 score of the KNN Model is 0.8262910798122065\n",
      "\n",
      "The F1 score of the SVM Model is 0.7766990291262136\n",
      "\n",
      "The F1 score of the Random Forest Tree Model is 0.7924528301886793\n"
     ]
    }
   ],
   "source": [
    "print(\"F1 SCORES\")\n",
    "print(\"\\nThe F1 score of the Logistic Regression Model is\",f1_score(y_test, y_pred))\n",
    "print(\"\\nThe F1 score of the Decision Tree Model is\",f1_score(y_test, tree_y_pred))\n",
    "print(\"\\nThe F1 score of the KNN Model is\",f1_score(y_test, knn_y_pred))\n",
    "print(\"\\nThe F1 score of the SVM Model is\",f1_score(y_test, svm_y_pred))\n",
    "print(\"\\nThe F1 score of the Random Forest Tree Model is\",f1_score(y_test, rf_y_pred))"
   ]
  },
  {
   "cell_type": "markdown",
   "id": "exceptional-donna",
   "metadata": {},
   "source": [
    "Similar to the previous Evaluation Metric, we can see that the KNN Model has the best score and that the Logisitc Regression Model's F1 score is at the last position when compared to the scores of the other models."
   ]
  },
  {
   "cell_type": "markdown",
   "id": "transparent-bookmark",
   "metadata": {},
   "source": [
    "## Conclusion\n",
    "\n",
    "So in this python file, we were able to:\n",
    "\n",
    "a.) Standardize an Imbalanaced Dataset that was a result of a PCA Transformation,\n",
    "\n",
    "b.) Set the feature variables and split the entire dataset into Training and Testing Datasets,\n",
    "\n",
    "c.) Apply 5 different Classification Algorithms to the Training datasets, and\n",
    "\n",
    "d.) Compare their respective performance by using 3 different evaluation metrics(Accuracy Score, Confusion Matrix and F -Score)\n",
    "\n",
    "And by comparing all the performance metrics, we were able to come to the conlsuion that out of the 5 different Classification models we applied to the Credit Card Dataset, the KNN(K-Nearest Neighbours) model is the most suitable one for this particular case."
   ]
  },
  {
   "cell_type": "code",
   "execution_count": null,
   "id": "intensive-syria",
   "metadata": {},
   "outputs": [],
   "source": []
  }
 ],
 "metadata": {
  "kernelspec": {
   "display_name": "Python 3",
   "language": "python",
   "name": "python3"
  },
  "language_info": {
   "codemirror_mode": {
    "name": "ipython",
    "version": 3
   },
   "file_extension": ".py",
   "mimetype": "text/x-python",
   "name": "python",
   "nbconvert_exporter": "python",
   "pygments_lexer": "ipython3",
   "version": "3.9.5"
  }
 },
 "nbformat": 4,
 "nbformat_minor": 5
}
